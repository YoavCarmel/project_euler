{
 "cells": [
  {
   "cell_type": "code",
   "execution_count": 1,
   "metadata": {
    "collapsed": true
   },
   "outputs": [],
   "source": [
    "def get_seq(target, nums):\n",
    "    ll = list()\n",
    "    for num in nums:\n",
    "        ll.append(target // num)\n",
    "        target %= num\n",
    "    return ll"
   ]
  },
  {
   "cell_type": "code",
   "execution_count": 2,
   "outputs": [],
   "source": [
    "a = 1504170715041707\n",
    "b = 4503599627370517"
   ],
   "metadata": {
    "collapsed": false,
    "pycharm": {
     "name": "#%%\n"
    }
   }
  },
  {
   "cell_type": "code",
   "execution_count": 5,
   "outputs": [],
   "source": [
    "def analyze():\n",
    "    min_coin = b\n",
    "    s = 0\n",
    "    n = 1\n",
    "    by_now = list()\n",
    "    while min_coin > 10**9:\n",
    "        coin = (a * n) % b\n",
    "        if coin < min_coin:\n",
    "            min_coin = coin\n",
    "            s += coin\n",
    "            print(list(reversed(get_seq(n, reversed(by_now)))), n, coin, sep=\"\\t\")\n",
    "            by_now.append(n)\n",
    "        n += 1\n",
    "    return s"
   ],
   "metadata": {
    "collapsed": false,
    "pycharm": {
     "name": "#%%\n"
    }
   }
  },
  {
   "cell_type": "code",
   "execution_count": 6,
   "outputs": [
    {
     "name": "stdout",
     "output_type": "stream",
     "text": [
      "[]\t1\t1504170715041707\n",
      "[3]\t3\t8912517754604\n",
      "[2, 168]\t506\t2044785486369\n",
      "[2, 167, 4]\t2527\t1311409677241\n",
      "[2, 167, 3, 1]\t4548\t578033868113\n",
      "[2, 167, 3, 0, 2]\t11117\t422691927098\n",
      "[2, 167, 3, 0, 1, 1]\t17686\t267349986083\n",
      "[2, 167, 3, 0, 1, 0, 1]\t24255\t112008045068\n",
      "[2, 167, 3, 0, 1, 0, 0, 2]\t55079\t68674149121\n",
      "[2, 167, 3, 0, 1, 0, 0, 1, 1]\t85903\t25340253174\n",
      "[2, 167, 3, 0, 1, 0, 0, 1, 0, 2]\t202630\t7346610401\n",
      "[2, 167, 3, 0, 1, 0, 0, 1, 0, 1, 3]\t724617\t4046188430\n",
      "[2, 167, 3, 0, 1, 0, 0, 1, 0, 1, 2, 1]\t1246604\t745766459\n"
     ]
    },
    {
     "data": {
      "text/plain": "1517925664753868"
     },
     "execution_count": 6,
     "metadata": {},
     "output_type": "execute_result"
    }
   ],
   "source": [
    "analyze()\n",
    "\n"
   ],
   "metadata": {
    "collapsed": false,
    "pycharm": {
     "name": "#%%\n"
    }
   }
  }
 ],
 "metadata": {
  "kernelspec": {
   "name": "pycharm-853dccf5",
   "language": "python",
   "display_name": "PyCharm (project_euler)"
  },
  "language_info": {
   "codemirror_mode": {
    "name": "ipython",
    "version": 2
   },
   "file_extension": ".py",
   "mimetype": "text/x-python",
   "name": "python",
   "nbconvert_exporter": "python",
   "pygments_lexer": "ipython2",
   "version": "2.7.6"
  }
 },
 "nbformat": 4,
 "nbformat_minor": 0
}